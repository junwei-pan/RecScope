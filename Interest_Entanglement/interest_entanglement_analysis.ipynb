{
 "cells": [
  {
   "cell_type": "code",
   "execution_count": 2,
   "metadata": {},
   "outputs": [
    {
     "name": "stderr",
     "output_type": "stream",
     "text": [
      "/usr/local/lib/python3.6/site-packages/tqdm/auto.py:22: TqdmWarning: IProgress not found. Please update jupyter and ipywidgets. See https://ipywidgets.readthedocs.io/en/stable/user_install.html\n",
      "  from .autonotebook import tqdm as notebook_tqdm\n"
     ]
    }
   ],
   "source": [
    "import numpy as np \n",
    "import torch \n",
    "import pandas as pd \n",
    "import h5py\n",
    "import pickle\n",
    "import os\n",
    "import matplotlib.patches as mpatches\n",
    "from matplotlib import pyplot as plt"
   ]
  },
  {
   "cell_type": "markdown",
   "metadata": {},
   "source": [
    "# Load Data and Model"
   ]
  },
  {
   "cell_type": "code",
   "execution_count": 3,
   "metadata": {},
   "outputs": [],
   "source": [
    "def h5_to_pd(h5_data, keys):\n",
    "    data = pd.DataFrame()\n",
    "    if keys:\n",
    "        for key in keys:\n",
    "            if key == 'tag':\n",
    "                continue\n",
    "            data[key] = h5_data[key][:]\n",
    "    else:\n",
    "        for key in h5_data:\n",
    "            if key == 'tag':\n",
    "                continue\n",
    "            data[key] = h5_data[key][:]\n",
    "    return data \n"
   ]
  },
  {
   "cell_type": "code",
   "execution_count": 4,
   "metadata": {},
   "outputs": [
    {
     "name": "stdout",
     "output_type": "stream",
     "text": [
      "223442979\n"
     ]
    }
   ],
   "source": [
    "train_h5 = h5py.File('./TiktokLarge/train.h5','r')\n",
    "train_pd = h5_to_pd(train_h5, keys=['uid','item_id'])\n",
    "print(len(train_pd))"
   ]
  },
  {
   "cell_type": "code",
   "execution_count": 6,
   "metadata": {},
   "outputs": [
    {
     "name": "stdout",
     "output_type": "stream",
     "text": [
      "27585554\n"
     ]
    }
   ],
   "source": [
    "test_h5 = h5py.File('./TiktokLarge/test.h5','r')\n",
    "test_pd = h5_to_pd(test_h5, keys=['uid','item_id'])\n",
    "print(len(test_pd))"
   ]
  },
  {
   "cell_type": "code",
   "execution_count": 5,
   "metadata": {},
   "outputs": [
    {
     "data": {
      "text/plain": [
       "224099"
      ]
     },
     "execution_count": 5,
     "metadata": {},
     "output_type": "execute_result"
    }
   ],
   "source": [
    "perc = 60\n",
    "cnt_user_train_pd = train_pd.groupby(['uid']).agg(len)\n",
    "user_list = list(cnt_user_train_pd[cnt_user_train_pd.item_id>np.percentile(cnt_user_train_pd.item_id,perc)].index)\n",
    "len(user_list)"
   ]
  },
  {
   "cell_type": "code",
   "execution_count": 6,
   "metadata": {},
   "outputs": [
    {
     "data": {
      "text/plain": [
       "704352"
      ]
     },
     "execution_count": 6,
     "metadata": {},
     "output_type": "execute_result"
    }
   ],
   "source": [
    "cnt_item_train_pd = train_pd.groupby(['item_id']).agg(len)\n",
    "item_list = list(cnt_item_train_pd[cnt_item_train_pd.uid>np.percentile(cnt_item_train_pd.uid,perc)].index)\n",
    "len(item_list)"
   ]
  },
  {
   "cell_type": "code",
   "execution_count": 7,
   "metadata": {},
   "outputs": [
    {
     "data": {
      "text/plain": [
       "21018044"
      ]
     },
     "execution_count": 7,
     "metadata": {},
     "output_type": "execute_result"
    }
   ],
   "source": [
    "select_user_item = test_pd[\n",
    "    (test_pd.uid.isin(user_list))&\n",
    "    (test_pd.item_id.isin(item_list))\n",
    "][['uid','item_id']].values\n",
    "len(select_user_item)"
   ]
  },
  {
   "cell_type": "code",
   "execution_count": 9,
   "metadata": {},
   "outputs": [],
   "source": [
    "# Load Model\n",
    "ST_like_model = torch.load('../checkpoints/TiktokLarge/TiktokLarge_like_SharedBottom_rerun/TiktokLarge/SharedBottom_TiktokLarge_like_001_c8a9398c.model',\n",
    "                           map_location='cpu')\n",
    "ST_finish_model = torch.load('../checkpoints/TiktokLarge/TiktokLarge_finish_SharedBottom_rerun/TiktokLarge/SharedBottom_TiktokLarge_finish_001_d04de58c.model',\n",
    "                           map_location='cpu')\n",
    "MMoE_model = torch.load('../checkpoints/TiktokLarge/TiktokLarge_MMoE_rerun/TiktokLarge/MMoE_TiktokLarge_001_22b09b73.model',\n",
    "                           map_location='cpu')\n",
    "PLE_model = torch.load('../checkpoints/TiktokLarge/TiktokLarge_PLE_rerun/TiktokLarge/PLE_TiktokLarge_003_ed9ed356.model',\n",
    "                           map_location='cpu')\n",
    "STEM_model = torch.load('../checkpoints/TiktokLarge/TiktokLarge_STEM_rerun/TiktokLarge/STEM_TiktokLarge_001_b08037c0.model',\n",
    "                           map_location='cpu')\n",
    "ME_MMoE_model = torch.load('../checkpoints/TiktokLarge/TiktokLarge_MMoE_ME_rerun/TiktokLarge/MMoE_ME_TiktokLarge_001_3be9e5e0.model',\n",
    "                           map_location='cpu')\n",
    "ME_PLE_model = torch.load('../checkpoints/TiktokLarge/TiktokLarge_PLE_ME_rerun/TiktokLarge/PLE_ME_TiktokLarge_001_ae1595a5.model',\n",
    "                           map_location='cpu')"
   ]
  },
  {
   "cell_type": "code",
   "execution_count": 10,
   "metadata": {},
   "outputs": [],
   "source": [
    "def get_model_embedding(model):\n",
    "    uid_embeddings = model['embedding_layer.embedding_layer.embedding_layers.uid.weight'] \n",
    "    iid_embeddings = model['embedding_layer.embedding_layer.embedding_layers.item_id.weight']\n",
    "    return {\n",
    "        'uid_embeddings':uid_embeddings,\n",
    "        'iid_embeddings':iid_embeddings\n",
    "    }\n",
    "\n",
    "def get_stem_embedding(stem_model):\n",
    "    uid_embeddings = stem_model['embedding_layer.embedding_layer.embedding_layers.uid.weight']\n",
    "    iid_embeddings = stem_model['embedding_layer.embedding_layer.embedding_layers.item_id.weight']\n",
    "    embedding_dim = uid_embeddings.shape[1]//3\n",
    "    \n",
    "    task1_uid_emb = uid_embeddings[:,:embedding_dim]\n",
    "    task1_iid_emb = iid_embeddings[:,:embedding_dim]\n",
    "    \n",
    "    task2_uid_emb = uid_embeddings[:,embedding_dim:embedding_dim*2]\n",
    "    task2_iid_emb = iid_embeddings[:,embedding_dim:embedding_dim*2]\n",
    "\n",
    "    task_shared_uid_emb = uid_embeddings[:,embedding_dim*2:]\n",
    "    task_shared_iid_emb = iid_embeddings[:,embedding_dim*2:]\n",
    "\n",
    "    return {\n",
    "        'task1_uid_emb': task1_uid_emb,\n",
    "        'task1_iid_emb': task1_iid_emb,\n",
    "        'task2_uid_emb': task2_uid_emb,\n",
    "        'task2_iid_emb': task2_iid_emb,\n",
    "        'task_shared_uid_emb': task_shared_uid_emb,\n",
    "        'task_shared_iid_emb': task_shared_iid_emb\n",
    "    }\n",
    "def get_sim_list(user_item_pair, uembs,iembs):\n",
    "    tensor_user_item_pair = torch.tensor(user_item_pair)\n",
    "    print(uembs.shape)\n",
    "    uemb = torch.index_select(uembs,index=tensor_user_item_pair[:,0],dim=0)\n",
    "    iemb = torch.index_select(iembs,index=tensor_user_item_pair[:,1],dim=0)\n",
    "    sim_list = torch.norm(uemb-iemb,dim=1,p=2)\n",
    "    return sim_list\n",
    "        "
   ]
  },
  {
   "cell_type": "code",
   "execution_count": 11,
   "metadata": {},
   "outputs": [
    {
     "name": "stdout",
     "output_type": "stream",
     "text": [
      "torch.Size([560264, 16])\n"
     ]
    }
   ],
   "source": [
    "ST_like_emb = get_model_embedding(ST_like_model)\n",
    "ST_like_emb_sim_list = get_sim_list(select_user_item, ST_like_emb['uid_embeddings'], ST_like_emb['iid_embeddings'])\n",
    "del ST_like_emb # for saving memory"
   ]
  },
  {
   "cell_type": "code",
   "execution_count": 12,
   "metadata": {},
   "outputs": [
    {
     "data": {
      "text/plain": [
       "0.7619221277919596"
      ]
     },
     "execution_count": 12,
     "metadata": {},
     "output_type": "execute_result"
    }
   ],
   "source": [
    "len(ST_like_emb_sim_list)/len(test_pd)"
   ]
  },
  {
   "cell_type": "code",
   "execution_count": 13,
   "metadata": {},
   "outputs": [
    {
     "name": "stdout",
     "output_type": "stream",
     "text": [
      "torch.Size([560264, 16])\n"
     ]
    }
   ],
   "source": [
    "ST_finish_emb = get_model_embedding(ST_finish_model)\n",
    "ST_finish_emb_sim_list = get_sim_list(select_user_item, ST_finish_emb['uid_embeddings'], ST_finish_emb['iid_embeddings'])\n",
    "del ST_finish_emb"
   ]
  },
  {
   "cell_type": "code",
   "execution_count": 14,
   "metadata": {},
   "outputs": [
    {
     "name": "stdout",
     "output_type": "stream",
     "text": [
      "torch.Size([560264, 16])\n"
     ]
    }
   ],
   "source": [
    "MMoE_emb = get_model_embedding(MMoE_model)\n",
    "MMoE_emb_sim_list = get_sim_list(select_user_item, MMoE_emb['uid_embeddings'], MMoE_emb['iid_embeddings'])\n",
    "del MMoE_emb"
   ]
  },
  {
   "cell_type": "code",
   "execution_count": 15,
   "metadata": {},
   "outputs": [
    {
     "name": "stdout",
     "output_type": "stream",
     "text": [
      "torch.Size([560264, 16])\n"
     ]
    }
   ],
   "source": [
    "PLE_emb = get_model_embedding(PLE_model)\n",
    "PLE_emb_sim_list = get_sim_list(select_user_item, PLE_emb['uid_embeddings'], PLE_emb['iid_embeddings'])\n",
    "del PLE_emb"
   ]
  },
  {
   "cell_type": "code",
   "execution_count": 16,
   "metadata": {},
   "outputs": [
    {
     "name": "stdout",
     "output_type": "stream",
     "text": [
      "torch.Size([560264, 16])\n",
      "torch.Size([560264, 16])\n",
      "torch.Size([560264, 16])\n"
     ]
    }
   ],
   "source": [
    "STEM_emb = get_stem_embedding(STEM_model)\n",
    "STEM_task1_emb_sim_list = get_sim_list(select_user_item, STEM_emb['task1_uid_emb'], STEM_emb['task1_iid_emb'])\n",
    "STEM_task2_emb_sim_list = get_sim_list(select_user_item, STEM_emb['task2_uid_emb'], STEM_emb['task2_iid_emb'])\n",
    "STEM_shared_emb_sim_list = get_sim_list(select_user_item, STEM_emb['task_shared_uid_emb'], STEM_emb['task_shared_iid_emb'])\n",
    "del STEM_emb"
   ]
  },
  {
   "cell_type": "code",
   "execution_count": 17,
   "metadata": {},
   "outputs": [
    {
     "name": "stdout",
     "output_type": "stream",
     "text": [
      "torch.Size([560264, 42])\n",
      "torch.Size([560264, 42])\n",
      "torch.Size([560264, 44])\n"
     ]
    }
   ],
   "source": [
    "ME_MMoEemb = get_stem_embedding(ME_MMoE_model)\n",
    "MEMMoE_task1_emb_sim_list = get_sim_list(select_user_item, ME_MMoEemb['task1_uid_emb'], ME_MMoEemb['task1_iid_emb'])\n",
    "MEMMoE_task2_emb_sim_list = get_sim_list(select_user_item, ME_MMoEemb['task2_uid_emb'], ME_MMoEemb['task2_iid_emb'])\n",
    "MEMMoE_shared_emb_sim_list = get_sim_list(select_user_item, ME_MMoEemb['task_shared_uid_emb'], ME_MMoEemb['task_shared_iid_emb'])\n",
    "del ME_MMoEemb"
   ]
  },
  {
   "cell_type": "code",
   "execution_count": 18,
   "metadata": {},
   "outputs": [
    {
     "name": "stdout",
     "output_type": "stream",
     "text": [
      "torch.Size([560264, 16])\n",
      "torch.Size([560264, 16])\n",
      "torch.Size([560264, 16])\n"
     ]
    }
   ],
   "source": [
    "ME_PLEemb = get_stem_embedding(ME_PLE_model)\n",
    "MEPLE_task1_emb_sim_list = get_sim_list(select_user_item, ME_PLEemb['task1_uid_emb'], ME_PLEemb['task1_iid_emb'])\n",
    "MEPLE_task2_emb_sim_list = get_sim_list(select_user_item, ME_PLEemb['task2_uid_emb'], ME_PLEemb['task2_iid_emb'])\n",
    "MEPLE_shared_emb_sim_list = get_sim_list(select_user_item, ME_PLEemb['task_shared_uid_emb'], ME_PLEemb['task_shared_iid_emb'])\n",
    "del ME_PLEemb"
   ]
  },
  {
   "cell_type": "code",
   "execution_count": 19,
   "metadata": {},
   "outputs": [],
   "source": [
    "similarity = pd.DataFrame({\n",
    "    'uid':select_user_item[:,0],\n",
    "    'item_id':select_user_item[:,1],\n",
    "    'ST_like':ST_like_emb_sim_list,\n",
    "    'ST_finish': ST_finish_emb_sim_list,\n",
    "    'MMoE': MMoE_emb_sim_list,\n",
    "    'PLE': PLE_emb_sim_list,\n",
    "    'STEM_finish': STEM_task1_emb_sim_list,\n",
    "    'STEM_like': STEM_task2_emb_sim_list,\n",
    "    'STEM_shared': STEM_shared_emb_sim_list,\n",
    "    'ME_MMoE_finish':  MEMMoE_task1_emb_sim_list,\n",
    "    'ME_MMoE_like': MEMMoE_task2_emb_sim_list,\n",
    "    'ME_MMoE_shared': MEMMoE_shared_emb_sim_list,\n",
    "    'ME_PLE_finish':  MEPLE_task1_emb_sim_list,\n",
    "    'ME_PLE_like': MEPLE_task2_emb_sim_list,\n",
    "    'ME_PLE_shared': MEPLE_shared_emb_sim_list\n",
    "})\n"
   ]
  },
  {
   "cell_type": "code",
   "execution_count": 7,
   "metadata": {},
   "outputs": [],
   "source": [
    "# Save the similarity dataframe from local path.\n",
    "# with open('./cross_task_similarity_60.pkl','wb') as f:\n",
    "#     pickle.dump(similarity, f)\n",
    "\n",
    "# # Load the similarity dataframe from local path.\n",
    "with open('./cross_task_similarity_60.pkl','rb') as f:\n",
    "    similarity = pickle.load(f)"
   ]
  },
  {
   "cell_type": "code",
   "execution_count": 8,
   "metadata": {},
   "outputs": [
    {
     "name": "stdout",
     "output_type": "stream",
     "text": [
      "0.25186892747879025 0.26338476538658145\n"
     ]
    }
   ],
   "source": [
    "# Define and produce the conflict subset\n",
    "def produce_conflict_subset_and_cal_sim(mode=0):\n",
    "    if mode ==0:\n",
    "        ## Finish<=40-percentile and Like> 60-percentile\n",
    "        finish_quant=40\n",
    "        like_quant=60\n",
    "\n",
    "        ST_like_threshold = np.percentile(similarity['ST_like'], like_quant)\n",
    "        ST_finish_threshold = np.percentile(similarity['ST_finish'], finish_quant)\n",
    "        print(ST_like_threshold,ST_finish_threshold)\n",
    "\n",
    "        select_index =   (similarity['ST_like']>ST_like_threshold)&\\\n",
    "            (similarity['ST_finish']<=ST_finish_threshold)\n",
    "        cut_similarity = similarity[select_index]\n",
    "        exclude_similarity = similarity[~select_index]\n",
    "    elif mode ==1:\n",
    "        ## Finish>60-percentile and Like<= 40-percentile\n",
    "        finish_quant=60\n",
    "        like_quant=40\n",
    "\n",
    "        ST_like_threshold = np.percentile(similarity['ST_like'], like_quant)\n",
    "        ST_finish_threshold = np.percentile(similarity['ST_finish'], finish_quant)\n",
    "        print(ST_like_threshold,ST_finish_threshold)\n",
    "\n",
    "        select_index =   (similarity['ST_like']<=ST_like_threshold)&\\\n",
    "            (similarity['ST_finish']>ST_finish_threshold)\n",
    "        cut_similarity = similarity[select_index]\n",
    "        exclude_similarity = similarity[~select_index]\n",
    "    else:\n",
    "        raise NotImplementedError\n",
    "    \n",
    "    return cut_similarity, exclude_similarity\n",
    "\n",
    "mode=0\n",
    "cut_similarity, exclude_similarity = produce_conflict_subset_and_cal_sim(mode=mode)"
   ]
  },
  {
   "cell_type": "code",
   "execution_count": 38,
   "metadata": {},
   "outputs": [
    {
     "data": {
      "text/plain": [
       "0.11128001996987263"
      ]
     },
     "execution_count": 38,
     "metadata": {},
     "output_type": "execute_result"
    }
   ],
   "source": [
    "len(cut_similarity)/len(test_pd)"
   ]
  },
  {
   "cell_type": "code",
   "execution_count": 64,
   "metadata": {},
   "outputs": [],
   "source": [
    "# Detailed Implements of plotting distance distribution.\n",
    "import matplotlib.ticker as mticker\n",
    "import numpy as np\n",
    "\n",
    "\n",
    "def plot_multitask(col,title,splits):\n",
    "\n",
    "    sim_all_bins = pd.cut(similarity[col], splits,include_lowest=True).value_counts()  # 等距分桶\n",
    "    thred = []\n",
    "    for i in sim_all_bins.index:\n",
    "        thred.append(i.left)\n",
    "        thred.append(i.right)\n",
    "    threds = np.sort(np.array(list(set(thred))))\n",
    "\n",
    "    sim_select_bins = pd.cut(cut_similarity[col], bins=threds,include_lowest=True).value_counts().sort_index().reset_index(drop=True)\n",
    "    sim_non_select_bins = pd.cut(exclude_similarity[col], bins=threds,include_lowest=True).value_counts().sort_index().reset_index(drop=True)\n",
    "\n",
    "    low_thre, high_thre = np.percentile(similarity[col],40),np.percentile(similarity[col],60)\n",
    "    colors = []\n",
    "    for i, t in enumerate(threds[:-1]):\n",
    "        if t < low_thre:\n",
    "            colors.append('#58A658')\n",
    "        elif t > high_thre or (t < high_thre and threds[i+1] > high_thre):\n",
    "            colors.append('#ED8C3D')\n",
    "        else:\n",
    "            colors.append('#4E84B5')\n",
    "\n",
    "    \n",
    "    fig, ax = plt.subplots(figsize=(5.5,3))\n",
    "    select_bars = plt.bar(sim_select_bins.index, sim_select_bins, edgecolor='k', color=colors)\n",
    "    exclude_bars = plt.bar(sim_non_select_bins.index,sim_non_select_bins, bottom=sim_select_bins,color='white',edgecolor=colors,hatch='/')\n",
    "\n",
    "    if title:\n",
    "        plt.title(title)\n",
    "\n",
    "    mid_patch = mpatches.Patch(color='#4E84B5', label='Middle - 20%')\n",
    "    low_patch = mpatches.Patch(color='#58A658', label='Bottom - 40%')\n",
    "    high_patch = mpatches.Patch(color='#ED8C3D', label='Top - 40%')\n",
    "\n",
    "    plt.xlabel(r'Bin index',fontsize=12)\n",
    "    plt.xticks(fontsize=13)\n",
    "    plt.yticks(fontsize=13)\n",
    "    plt.ylabel(\"Frequency\",fontsize=12)\n",
    "    plt.legend(handles=[low_patch,mid_patch, high_patch],frameon=False,fontsize=12)\n",
    "    plt.tick_params(axis='y', which='major', labelsize=12)\n",
    "    plt.ticklabel_format(style='sci', axis='y', scilimits=(0,0))\n",
    "    ax.yaxis.offsetText.set_fontsize(12)\n",
    "\n",
    "    # plt.tick_params(axis='both', which='major', labelsize=12)"
   ]
  },
  {
   "cell_type": "code",
   "execution_count": 11,
   "metadata": {},
   "outputs": [],
   "source": [
    "path = './embedding_analysis/'\n",
    "if not os.path.exists(path):\n",
    "    os.makedirs(path)"
   ]
  },
  {
   "cell_type": "code",
   "execution_count": 66,
   "metadata": {},
   "outputs": [
    {
     "data": {
      "image/png": "[encoded data removed]",
      "text/plain": [
       "<Figure size 396x216 with 1 Axes>"
      ]
     },
     "metadata": {
      "needs_background": "light"
     },
     "output_type": "display_data"
    },
    {
     "data": {
      "image/png": "[encoded data removed]",
      "text/plain": [
       "<Figure size 396x216 with 1 Axes>"
      ]
     },
     "metadata": {
      "needs_background": "light"
     },
     "output_type": "display_data"
    },
    {
     "data": {
      "image/png": "[encoded data removed]",
      "text/plain": [
       "<Figure size 396x216 with 1 Axes>"
      ]
     },
     "metadata": {
      "needs_background": "light"
     },
     "output_type": "display_data"
    },
    {
     "data": {
      "image/png": "[encoded data removed]",
      "text/plain": [
       "<Figure size 396x216 with 1 Axes>"
      ]
     },
     "metadata": {
      "needs_background": "light"
     },
     "output_type": "display_data"
    },
    {
     "data": {
      "image/png": "[encoded data removed]",
      "text/plain": [
       "<Figure size 396x216 with 1 Axes>"
      ]
     },
     "metadata": {
      "needs_background": "light"
     },
     "output_type": "display_data"
    },
    {
     "data": {
      "image/png": "[encoded data removed]",
      "text/plain": [
       "<Figure size 396x216 with 1 Axes>"
      ]
     },
     "metadata": {
      "needs_background": "light"
     },
     "output_type": "display_data"
    }
   ],
   "source": [
    "\n",
    "for col in ['ST_like', 'ST_finish', 'PLE', 'STEM_finish',\\\n",
    "       'STEM_like', 'STEM_shared']:\n",
    "   #  plt.figure(figsize=(5.5,3))\n",
    "    plot_multitask(col,None,39)\n",
    "    plt.savefig('{}emb_dis_{}_{}.pdf'.format(path,col,mode),dpi=500,bbox_inches='tight')\n",
    "    \n",
    "    plt.show()"
   ]
  }
 ],
 "metadata": {
  "kernelspec": {
   "display_name": "Python 3",
   "language": "python",
   "name": "python3"
  },
  "language_info": {
   "codemirror_mode": {
    "name": "ipython",
    "version": 3
   },
   "file_extension": ".py",
   "mimetype": "text/x-python",
   "name": "python",
   "nbconvert_exporter": "python",
   "pygments_lexer": "ipython3",
   "version": "3.8.10"
  },
  "orig_nbformat": 4
 },
 "nbformat": 4,
 "nbformat_minor": 2
}
