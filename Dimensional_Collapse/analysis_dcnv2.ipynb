{
 "cells": [
  {
   "cell_type": "code",
   "execution_count": 16,
   "metadata": {},
   "outputs": [],
   "source": [
    "import torch\n",
    "import seaborn as sns\n",
    "import matplotlib.pyplot as plt\n",
    "import numpy as np"
   ]
  },
  {
   "cell_type": "code",
   "execution_count": 17,
   "metadata": {},
   "outputs": [
    {
     "data": {
      "text/plain": [
       "odict_keys(['embedding.embedding.weight', 'cn.W.0', 'cn.W.1', 'cn.W.2', 'cn.W.3', 'cn.b.0', 'cn.b.1', 'cn.b.2', 'cn.b.3', 'mlp.mlp.0.weight', 'mlp.mlp.0.bias', 'mlp.mlp.1.weight', 'mlp.mlp.1.bias', 'mlp.mlp.1.running_mean', 'mlp.mlp.1.running_var', 'mlp.mlp.1.num_batches_tracked', 'mlp.mlp.4.weight', 'mlp.mlp.4.bias', 'mlp.mlp.5.weight', 'mlp.mlp.5.bias', 'mlp.mlp.5.running_mean', 'mlp.mlp.5.running_var', 'mlp.mlp.5.num_batches_tracked', 'linear.weight', 'linear.bias'])"
      ]
     },
     "execution_count": 17,
     "metadata": {},
     "output_type": "execute_result"
    }
   ],
   "source": [
    "model = torch.load(\"logs/criteo/dcn-10/checkpoints/best.pth\", map_location=\"cpu\")\n",
    "model.keys()"
   ]
  },
  {
   "cell_type": "code",
   "execution_count": 18,
   "metadata": {},
   "outputs": [],
   "source": [
    "embed_dim = model[\"embedding.embedding.weight\"].shape[1]"
   ]
  },
  {
   "cell_type": "code",
   "execution_count": 19,
   "metadata": {},
   "outputs": [
    {
     "data": {
      "text/plain": [
       "1086810"
      ]
     },
     "execution_count": 19,
     "metadata": {},
     "output_type": "execute_result"
    }
   ],
   "source": [
    "field_dims = np.array(\n",
    "[    49,    101,    126,     45,    223,    118,     84,     76,     95,      9,\n",
    "     30,     40,     75,   1458,    555, 193949, 138801,    306,     19,  11970,\n",
    "    634,      4,  42646,   5178, 192773,   3175,     27,  11422, 181075,     11,\n",
    "   4654,   2032,      5, 189657,     18,     16,  59697,     86,  45571,])\n",
    "field_dims.sum()"
   ]
  },
  {
   "cell_type": "code",
   "execution_count": 20,
   "metadata": {},
   "outputs": [],
   "source": [
    "def split_to_field(weight: torch.Tensor):\n",
    "    return weight.split(tuple(field_dims))\n",
    "\n",
    "def split_to_field_for_all(weights):\n",
    "    all_weights = [[] for _ in range(39)]\n",
    "    for weight in weights:\n",
    "        splitted_weights = split_to_field(weight)\n",
    "        for all_weight, splitted_weight in zip(all_weights, splitted_weights):\n",
    "            all_weight.append(splitted_weight)\n",
    "    return all_weights"
   ]
  },
  {
   "cell_type": "code",
   "execution_count": 21,
   "metadata": {},
   "outputs": [],
   "source": [
    "all_weight = split_to_field(model[\"embedding.embedding.weight\"])"
   ]
  },
  {
   "cell_type": "code",
   "execution_count": 22,
   "metadata": {},
   "outputs": [],
   "source": [
    "def plot_info_map(all_weight, tgt_idx):\n",
    "    print(field_dims[tgt_idx])\n",
    "    value = torch.svd(all_weight[tgt_idx]).S\n",
    "    value /= value.max()\n",
    "    print(value)\n",
    "    value = value.unsqueeze(0)\n",
    "    sns.heatmap(value, vmin=0.0, vmax=1.0, cmap=\"Reds\")\n",
    "    plt.show()"
   ]
  },
  {
   "cell_type": "code",
   "execution_count": 23,
   "metadata": {},
   "outputs": [],
   "source": [
    "def plot_info_maps(all_weight, reduce=True):\n",
    "    value_list = []\n",
    "    for rank, idx in enumerate(np.argsort(field_dims)):\n",
    "        emb = all_weight[idx].clone()\n",
    "        emb /= (emb.norm(p=2, dim=-1, keepdim=True) + 1e-8)\n",
    "        _value = torch.svd(emb).S\n",
    "        _value /= _value.max()\n",
    "        \n",
    "        value = torch.zeros(embed_dim)\n",
    "        value[:_value.shape[0]] = _value\n",
    "        value_list.append(value)\n",
    "    value_total = torch.stack(value_list, dim=0)\n",
    "    if reduce:\n",
    "        return value_total.sum(dim=-1)\n",
    "    else:\n",
    "        return value_total"
   ]
  },
  {
   "cell_type": "code",
   "execution_count": 24,
   "metadata": {},
   "outputs": [
    {
     "data": {
      "image/png": "[encoded data removed]",
      "text/plain": [
       "<Figure size 640x480 with 2 Axes>"
      ]
     },
     "metadata": {},
     "output_type": "display_data"
    }
   ],
   "source": [
    "singular_values = plot_info_maps(all_weight, reduce=False)\n",
    "sns.heatmap(singular_values, cmap=\"Reds\", vmin=0.0, vmax=1.0)\n",
    "plt.show()"
   ]
  },
  {
   "cell_type": "code",
   "execution_count": 25,
   "metadata": {},
   "outputs": [],
   "source": [
    "def plot_info_map_after_proj(idx):\n",
    "    all_weight_after_proj = torch.matmul(model[\"cn.W.0\"][:, embed_dim*idx:embed_dim*(idx+1)], all_weight[idx].unsqueeze(2))  # (len, 390)\n",
    "    all_weight_after_proj = all_weight_after_proj.reshape(-1, 39, embed_dim).permute(1, 0, 2)\n",
    "    return plot_info_maps(all_weight_after_proj)"
   ]
  },
  {
   "cell_type": "code",
   "execution_count": 26,
   "metadata": {},
   "outputs": [],
   "source": [
    "def plot_info_map_after_proj_inv(idx):\n",
    "    all_weight_after_proj_inv = []\n",
    "    for i in range(39):\n",
    "        all_weight_after_proj = torch.matmul(model[\"cn.W.0\"][:, embed_dim*i:embed_dim*(i+1)], all_weight[i].unsqueeze(2)).squeeze(2)[:, embed_dim*idx:embed_dim*(idx+1)]  # (len, 10)\n",
    "        all_weight_after_proj_inv.append(all_weight_after_proj)\n",
    "    plot_info_maps(all_weight_after_proj_inv)"
   ]
  },
  {
   "cell_type": "code",
   "execution_count": 27,
   "metadata": {},
   "outputs": [],
   "source": [
    "plot_info_map_after_proj_inv(23)"
   ]
  },
  {
   "cell_type": "code",
   "execution_count": 28,
   "metadata": {},
   "outputs": [],
   "source": [
    "iass = []\n",
    "for idx in np.argsort(field_dims):\n",
    "    ias = plot_info_map_after_proj(idx)\n",
    "    iass.append(ias)\n",
    "iass = torch.stack(iass, dim=0)"
   ]
  },
  {
   "cell_type": "code",
   "execution_count": 29,
   "metadata": {},
   "outputs": [
    {
     "name": "stdout",
     "output_type": "stream",
     "text": [
      "tensor([ 1.8055,  2.2286,  2.4942,  2.9876,  3.8397,  3.8542,  4.3106,  4.3116,\n",
      "         4.3706,  4.5225,  4.5876,  4.6015,  5.1082,  5.1697,  5.2290,  5.2314,\n",
      "         5.3409,  5.4200,  5.5282,  5.6482,  6.1838,  6.1951,  6.2679,  6.5558,\n",
      "         6.8092,  7.9771,  8.3019,  8.5508,  8.7737,  8.8623,  9.7325, 10.0824,\n",
      "        10.2295, 10.2552, 10.5016, 10.7360, 11.6665, 12.3058, 12.4721])\n",
      "tensor([[1.0299, 1.7920, 1.8061, 1.7291, 1.5804, 1.6687, 1.4642, 1.6103, 1.8150,\n",
      "         1.7487, 1.3377, 1.4966, 1.2633, 1.4381, 1.5213, 1.4907, 1.7566, 1.5802,\n",
      "         1.6222, 1.6793, 1.3676, 1.4052, 1.7738, 1.5644, 1.5514, 1.7776, 1.3928,\n",
      "         1.3527, 1.3765, 1.8433, 1.4925, 1.3679, 1.6236, 1.5220, 1.4978, 1.7608,\n",
      "         1.5779, 1.6932, 1.4733],\n",
      "        [1.5473, 1.2361, 1.6400, 1.6641, 1.9476, 1.7398, 1.5978, 1.8121, 1.7601,\n",
      "         1.7338, 2.0044, 1.8129, 1.6832, 1.8758, 1.9688, 2.0474, 2.0662, 1.8411,\n",
      "         1.7810, 1.9162, 1.7829, 1.7405, 1.7240, 1.9608, 1.9337, 2.0414, 2.0178,\n",
      "         1.8968, 1.7945, 1.8743, 1.7443, 1.7435, 2.0329, 1.8926, 2.1010, 1.9290,\n",
      "         1.9018, 1.9852, 2.0092],\n",
      "        [1.1634, 1.4275, 1.4748, 2.1031, 1.7763, 1.5395, 2.1069, 1.8402, 1.7860,\n",
      "         1.6395, 1.9326, 1.6878, 1.8549, 2.3521, 2.0301, 1.7477, 1.8083, 1.7846,\n",
      "         2.0111, 2.0874, 2.0177, 1.8516, 2.0001, 2.2135, 2.0228, 2.0860, 2.0138,\n",
      "         1.9382, 1.7898, 2.3184, 2.0198, 1.8365, 1.9620, 1.8454, 1.9558, 1.9407,\n",
      "         2.0318, 2.0010, 1.8964],\n",
      "        [1.3999, 1.5115, 1.7292, 1.6652, 1.9559, 1.8780, 2.0081, 1.7024, 2.0132,\n",
      "         1.9656, 1.8498, 2.0234, 2.0466, 2.0224, 2.2925, 1.9521, 1.9116, 2.4801,\n",
      "         1.8213, 2.0201, 2.2724, 2.2565, 2.0004, 2.0063, 2.2144, 1.9804, 1.9846,\n",
      "         2.2873, 2.0235, 2.1925, 1.9203, 2.2531, 2.2241, 2.2953, 2.3821, 2.2515,\n",
      "         2.0473, 1.9623, 2.1360],\n",
      "        [2.4793, 2.2036, 2.0032, 2.2862, 2.5186, 2.8466, 2.6183, 2.2147, 3.0956,\n",
      "         1.7555, 2.3788, 3.1641, 2.4684, 3.2620, 2.3400, 2.8676, 2.9039, 2.4135,\n",
      "         2.3829, 2.4323, 2.6194, 1.9200, 2.4737, 3.1487, 2.3100, 2.7541, 2.8830,\n",
      "         2.6367, 2.7460, 3.2375, 3.1859, 2.6157, 2.2663, 2.4236, 2.1377, 2.7680,\n",
      "         2.9782, 2.6535, 2.7502],\n",
      "        [2.3858, 2.0245, 2.0530, 1.8120, 1.9759, 2.0025, 2.3349, 2.1318, 2.3825,\n",
      "         1.8511, 2.2098, 2.2243, 2.1780, 2.1315, 2.6011, 1.8336, 2.6316, 2.3608,\n",
      "         2.0190, 2.4236, 2.3684, 2.4254, 1.9442, 2.4528, 2.5248, 2.5395, 2.4728,\n",
      "         2.2526, 2.2109, 2.3653, 2.6968, 1.9147, 2.1888, 2.2549, 2.3541, 2.3765,\n",
      "         2.2090, 2.2835, 2.1931],\n",
      "        [1.6539, 2.7460, 2.7780, 2.6688, 2.9306, 3.5559, 2.1039, 2.4133, 3.3621,\n",
      "         2.6010, 2.9856, 1.9264, 2.6563, 3.6005, 3.1077, 3.3707, 2.4066, 3.5860,\n",
      "         2.4219, 2.6453, 3.3433, 3.0416, 2.7852, 2.6672, 3.3457, 2.7477, 2.7174,\n",
      "         3.4914, 3.1289, 3.2115, 2.9955, 2.4785, 3.3662, 2.7469, 2.8116, 3.1484,\n",
      "         3.1090, 2.4766, 3.3786],\n",
      "        [1.8184, 2.3364, 2.1209, 2.7677, 2.2455, 2.7277, 2.6869, 2.1452, 2.6860,\n",
      "         2.7226, 2.5601, 2.0982, 2.3540, 2.9797, 2.7234, 2.8580, 2.8864, 2.6700,\n",
      "         2.9401, 3.2401, 2.7503, 2.5373, 2.1729, 2.8219, 3.0558, 3.0597, 2.9354,\n",
      "         2.8945, 2.8221, 3.0619, 2.9140, 2.5278, 3.1907, 2.9145, 2.7999, 2.9752,\n",
      "         3.0714, 2.9095, 3.3913],\n",
      "        [2.0629, 2.1044, 1.8396, 2.7823, 2.7972, 2.6247, 2.3695, 3.3370, 2.3333,\n",
      "         2.3744, 2.3980, 2.2057, 2.7949, 2.6458, 2.8045, 2.7200, 2.7921, 3.2161,\n",
      "         2.4609, 3.0198, 2.9864, 3.2342, 2.1955, 2.5185, 3.0055, 2.5349, 3.0691,\n",
      "         2.6915, 2.9818, 2.9414, 2.5919, 2.4869, 3.0432, 2.3547, 2.5840, 2.7518,\n",
      "         2.6372, 2.7168, 2.6595],\n",
      "        [1.5500, 1.6954, 1.6125, 2.9499, 1.8177, 2.2349, 2.1458, 2.0813, 2.5715,\n",
      "         2.4317, 1.6926, 2.0865, 2.7157, 2.7889, 2.6915, 2.2814, 2.9759, 2.1536,\n",
      "         3.0730, 2.9035, 2.3907, 2.1569, 2.0724, 2.5106, 2.0248, 2.3844, 2.2830,\n",
      "         3.0017, 2.3145, 2.6293, 2.1584, 2.1398, 2.0596, 2.4367, 2.1617, 2.2161,\n",
      "         2.0120, 2.4803, 2.2590],\n",
      "        [1.9992, 2.8505, 2.2163, 2.7485, 2.7125, 2.2846, 3.5332, 3.6120, 3.9159,\n",
      "         2.6409, 2.9228, 2.8743, 3.0310, 3.0903, 3.8968, 3.6054, 2.4754, 2.9527,\n",
      "         2.6075, 2.8040, 3.0761, 2.7367, 2.6956, 3.4751, 2.6602, 3.8163, 3.0275,\n",
      "         2.5710, 3.2404, 3.3670, 3.0001, 2.8338, 3.5100, 2.8249, 3.6439, 3.1198,\n",
      "         2.5476, 2.9781, 2.7036],\n",
      "        [1.7411, 1.8801, 1.8395, 2.7639, 2.4308, 2.4696, 2.6350, 2.2676, 2.7753,\n",
      "         2.0037, 2.8558, 2.9400, 2.5636, 2.6173, 2.3548, 3.0170, 2.8895, 2.7276,\n",
      "         2.3334, 2.4670, 3.0189, 2.5139, 2.7198, 2.4692, 2.7554, 2.2470, 2.6395,\n",
      "         2.8495, 2.7688, 2.5017, 2.5918, 2.6235, 3.3474, 2.6542, 2.9477, 2.9279,\n",
      "         2.9022, 2.8327, 2.9498],\n",
      "        [1.9024, 2.0173, 2.2020, 2.3116, 3.1456, 3.5395, 2.6995, 2.7106, 3.0764,\n",
      "         3.1354, 3.4340, 2.3894, 2.1862, 2.9717, 2.8157, 3.1653, 2.5027, 3.2556,\n",
      "         2.5143, 2.2686, 2.9824, 3.4169, 1.9889, 2.5658, 3.0179, 2.1435, 2.5533,\n",
      "         3.2988, 2.6509, 3.2241, 2.9811, 2.4549, 3.3639, 2.1532, 3.0168, 3.5083,\n",
      "         2.5989, 2.7076, 2.5241],\n",
      "        [1.6357, 2.5961, 1.8574, 2.9469, 2.4200, 2.6222, 2.9169, 2.6563, 2.2279,\n",
      "         3.1707, 2.6344, 2.9097, 2.8869, 3.1170, 2.3751, 2.4540, 2.4588, 3.5461,\n",
      "         1.9328, 3.1007, 2.3292, 3.3371, 2.2307, 2.6386, 3.1324, 2.6402, 2.7327,\n",
      "         2.4232, 2.8291, 3.4627, 2.7564, 3.4210, 2.6750, 2.9137, 3.0097, 3.1048,\n",
      "         2.4921, 3.0830, 2.4837],\n",
      "        [2.3073, 2.8124, 3.0221, 2.5103, 4.1278, 2.8986, 3.3105, 3.6559, 2.9168,\n",
      "         2.7610, 2.8446, 2.5919, 3.0528, 2.8988, 2.8256, 3.1170, 3.2228, 3.4274,\n",
      "         2.9094, 3.3335, 3.0747, 3.2858, 2.3413, 3.1955, 3.1525, 3.4253, 2.6972,\n",
      "         3.2976, 2.9492, 3.0066, 2.7073, 2.7403, 3.2214, 3.1817, 3.0725, 3.3061,\n",
      "         3.1026, 2.9050, 2.5359],\n",
      "        [1.4229, 2.5493, 2.6250, 3.3456, 2.8299, 2.1495, 3.0241, 2.9499, 3.2781,\n",
      "         2.9198, 2.6658, 3.0411, 2.5958, 2.7500, 2.7441, 3.1688, 2.9047, 2.9453,\n",
      "         3.0571, 2.8138, 2.5455, 3.0812, 3.0450, 3.1315, 3.2681, 3.3363, 3.2650,\n",
      "         3.0399, 3.4871, 3.5970, 3.0148, 3.4893, 2.6419, 2.8485, 2.8803, 2.7647,\n",
      "         3.1767, 3.6957, 3.2960],\n",
      "        [1.6315, 2.0177, 3.0522, 2.4265, 2.9834, 2.5413, 2.8732, 2.7686, 3.7220,\n",
      "         3.2517, 2.7823, 2.1488, 2.0998, 3.2133, 3.8612, 3.0610, 3.0676, 3.1928,\n",
      "         2.4189, 2.8377, 3.0257, 3.1040, 3.2986, 2.6561, 3.1273, 2.5431, 2.6239,\n",
      "         3.2334, 2.6297, 3.2578, 3.1278, 2.8781, 2.6444, 2.8526, 2.3519, 2.9100,\n",
      "         2.6745, 2.3477, 2.6772],\n",
      "        [1.4049, 2.8793, 2.0094, 2.4842, 2.9679, 2.6355, 4.0060, 2.9978, 3.1365,\n",
      "         2.6826, 2.2694, 2.8790, 1.9382, 3.4385, 3.1991, 3.2636, 2.5557, 2.9316,\n",
      "         2.4290, 2.5336, 2.7401, 3.3630, 2.6713, 3.6377, 2.6341, 3.2909, 2.7639,\n",
      "         3.1894, 3.0572, 3.5695, 2.9778, 2.7700, 2.6263, 3.3816, 2.6131, 2.5713,\n",
      "         2.8232, 2.8746, 2.8975],\n",
      "        [2.2109, 2.2790, 2.4220, 2.6835, 3.8001, 3.6594, 3.3121, 2.4830, 3.2641,\n",
      "         3.1016, 4.0095, 3.3806, 2.7258, 4.3469, 3.2747, 3.5758, 2.7870, 3.8637,\n",
      "         3.2097, 3.2930, 3.7280, 3.8965, 2.5924, 3.2936, 4.3754, 3.5608, 3.8424,\n",
      "         4.0648, 4.1276, 4.4451, 4.4878, 3.6277, 4.1898, 3.5981, 3.8004, 4.4041,\n",
      "         4.3200, 4.4644, 4.6169],\n",
      "        [2.9775, 2.9975, 2.6371, 2.5652, 2.8939, 2.6772, 2.2516, 3.2527, 3.8682,\n",
      "         2.9186, 3.3264, 2.9302, 2.4104, 3.5568, 3.9199, 3.5069, 2.2395, 3.5159,\n",
      "         2.8032, 3.0310, 4.2259, 3.8211, 2.3983, 2.9047, 3.3027, 3.2310, 3.2474,\n",
      "         3.9492, 2.4896, 3.6297, 3.6602, 3.4299, 3.6435, 2.7724, 2.9192, 3.3938,\n",
      "         3.1457, 2.8881, 3.1477],\n",
      "        [2.0954, 2.3067, 2.1520, 3.1912, 2.3222, 3.8112, 3.4189, 2.9571, 3.6225,\n",
      "         2.7946, 2.6992, 3.2749, 2.7467, 3.5359, 2.9574, 3.5451, 2.5263, 3.4544,\n",
      "         2.6713, 2.9014, 2.4635, 3.2562, 2.6323, 3.8899, 3.0411, 3.9103, 2.9115,\n",
      "         3.7980, 3.3083, 3.8933, 3.3546, 3.7592, 2.4717, 3.1308, 2.8152, 2.8274,\n",
      "         3.2737, 3.9423, 3.2327],\n",
      "        [2.1050, 2.8193, 2.6798, 2.8289, 2.0122, 2.9845, 3.0382, 3.2634, 3.5525,\n",
      "         2.6250, 2.6245, 2.6868, 2.7221, 3.1873, 3.5173, 3.3534, 3.2943, 3.5127,\n",
      "         2.8955, 3.2066, 3.2447, 3.0487, 2.8156, 3.7597, 3.6649, 3.6153, 3.1021,\n",
      "         3.7639, 3.4443, 3.5184, 3.3039, 3.2409, 3.1094, 3.1159, 3.1548, 3.8912,\n",
      "         2.8343, 3.5028, 3.1166],\n",
      "        [1.9689, 2.2961, 2.6037, 2.8324, 3.4039, 3.4285, 2.6940, 3.5122, 3.5222,\n",
      "         2.5284, 3.1730, 3.0522, 2.9156, 3.1690, 3.2896, 3.8508, 3.2981, 3.9792,\n",
      "         2.9540, 3.1005, 3.0145, 3.8424, 2.4368, 4.1057, 3.8173, 3.6058, 3.3401,\n",
      "         4.2459, 3.4515, 3.8678, 3.3685, 3.9807, 3.7728, 3.5288, 3.8933, 3.7662,\n",
      "         3.8812, 3.6584, 4.2360],\n",
      "        [1.8442, 2.3223, 2.0356, 3.4598, 3.7462, 3.9621, 3.2060, 3.0837, 5.0764,\n",
      "         3.8281, 4.1617, 4.8045, 3.4897, 5.7324, 4.9329, 4.1287, 3.3832, 4.9179,\n",
      "         4.3846, 4.7077, 5.1531, 4.6623, 4.2112, 3.5962, 5.7033, 4.5004, 4.1259,\n",
      "         4.6695, 4.3549, 5.3056, 3.9701, 4.9341, 4.6147, 4.2645, 6.1479, 5.5524,\n",
      "         5.7959, 4.6114, 4.3856],\n",
      "        [1.9424, 3.5878, 2.6547, 4.2079, 3.4692, 3.4421, 4.4087, 3.4039, 4.1413,\n",
      "         3.6727, 3.5237, 4.8187, 2.7921, 3.3591, 4.4654, 3.5192, 3.6919, 3.9320,\n",
      "         3.8409, 3.7992, 4.2522, 4.3303, 3.7719, 4.5451, 4.6119, 4.9274, 4.2662,\n",
      "         4.8326, 4.0344, 5.1341, 4.7583, 3.9061, 4.2512, 4.2508, 3.8757, 4.2308,\n",
      "         4.7118, 4.9989, 4.6648],\n",
      "        [2.4433, 3.5681, 2.8359, 3.0573, 4.3223, 4.5301, 4.3052, 3.4443, 4.2625,\n",
      "         3.7407, 4.3268, 5.6753, 3.5921, 5.7739, 3.8454, 4.4470, 4.3553, 5.2983,\n",
      "         3.9392, 4.6110, 5.2850, 4.7228, 5.4481, 4.8743, 5.4609, 4.9152, 5.3612,\n",
      "         6.0197, 6.0120, 6.2702, 4.2925, 4.0740, 5.0137, 5.3425, 5.8410, 5.8066,\n",
      "         5.1915, 4.5238, 5.5939],\n",
      "        [2.2483, 2.8922, 3.7938, 3.9103, 4.1334, 4.7030, 4.7920, 4.2113, 5.2129,\n",
      "         3.8853, 4.7200, 3.3190, 4.0050, 4.7386, 5.3192, 4.8155, 4.2042, 5.1184,\n",
      "         4.0848, 4.6258, 5.2947, 5.1026, 3.7631, 4.7117, 4.7422, 6.5162, 3.9649,\n",
      "         5.5336, 4.4752, 6.2407, 5.0914, 4.9597, 5.7818, 5.2817, 5.6760, 5.9753,\n",
      "         4.2134, 4.5337, 4.4835],\n",
      "        [1.6882, 3.6063, 2.9311, 3.9623, 2.9647, 3.5465, 5.0562, 3.9741, 4.3291,\n",
      "         3.1293, 3.7491, 3.5832, 3.8654, 3.4447, 2.9111, 4.7670, 3.8134, 4.6916,\n",
      "         4.2421, 4.1180, 3.3932, 4.6095, 3.8161, 4.8953, 4.5467, 5.0400, 4.9045,\n",
      "         4.9210, 4.2912, 5.3632, 4.0267, 4.2874, 4.6767, 4.3051, 4.3661, 4.4681,\n",
      "         6.3137, 5.5179, 5.1141],\n",
      "        [1.7977, 2.6185, 2.1216, 2.2757, 3.6169, 3.3734, 2.4940, 2.6414, 3.8373,\n",
      "         3.1001, 2.8552, 3.2373, 2.1105, 2.9033, 2.9831, 2.9706, 2.9487, 3.2056,\n",
      "         3.4415, 3.1696, 3.1909, 3.1123, 2.8971, 3.3762, 3.5533, 3.2142, 3.4756,\n",
      "         3.4211, 3.0749, 3.4124, 3.3776, 2.9710, 3.9574, 3.2698, 2.9314, 3.5963,\n",
      "         3.0043, 3.4915, 3.4754],\n",
      "        [2.8976, 3.3461, 2.4356, 2.9137, 3.6572, 3.6923, 4.3899, 3.7507, 3.0009,\n",
      "         3.6271, 4.0378, 2.3537, 3.1957, 3.4080, 3.2603, 5.1297, 3.8979, 4.2905,\n",
      "         3.1637, 4.7259, 6.6172, 5.2109, 4.0389, 3.9607, 4.6955, 4.1752, 3.8234,\n",
      "         4.1383, 3.9884, 3.6766, 4.3245, 3.3106, 5.2414, 4.5549, 3.9944, 5.2368,\n",
      "         3.5131, 4.7292, 3.8746],\n",
      "        [2.4379, 2.8527, 3.3083, 3.3638, 5.3769, 5.1067, 5.2515, 4.4575, 4.9483,\n",
      "         3.4510, 4.8518, 4.3590, 3.3979, 5.4667, 5.3123, 5.6293, 3.3908, 7.0277,\n",
      "         4.4621, 5.5805, 6.3295, 5.9573, 3.8038, 5.4820, 6.7308, 4.8165, 5.1098,\n",
      "         6.3714, 5.9934, 5.5890, 6.0150, 5.3346, 7.0991, 5.2576, 5.9627, 6.8555,\n",
      "         6.5207, 6.3300, 6.0055],\n",
      "        [2.0802, 2.7974, 2.9915, 2.7633, 4.1501, 3.5419, 3.8961, 2.8589, 4.0091,\n",
      "         3.1755, 3.7855, 3.3063, 2.6713, 4.4210, 4.7577, 4.6979, 3.2111, 4.6843,\n",
      "         3.6179, 3.4122, 5.0406, 4.9794, 3.1863, 3.8012, 4.2943, 3.1352, 2.8101,\n",
      "         4.9593, 4.3006, 5.1370, 3.7618, 3.9446, 5.1071, 2.9533, 4.4490, 4.6996,\n",
      "         4.6963, 3.7023, 4.2671],\n",
      "        [2.5641, 2.9676, 3.4674, 5.3718, 4.3566, 4.1634, 3.9241, 4.2558, 5.5641,\n",
      "         3.1432, 4.6068, 5.3589, 4.7475, 4.4150, 6.0072, 4.4921, 3.9381, 6.1714,\n",
      "         5.4255, 4.5584, 5.0920, 4.8237, 4.9295, 6.5032, 4.6317, 6.2079, 6.0675,\n",
      "         5.7199, 4.5496, 6.1456, 6.2818, 5.3661, 3.9815, 5.0153, 6.1903, 7.3598,\n",
      "         6.8499, 8.0557, 6.1554],\n",
      "        [2.2306, 3.1711, 3.0131, 3.5545, 4.2540, 4.4453, 4.2560, 4.3785, 4.8535,\n",
      "         3.7417, 5.3636, 4.4054, 3.4720, 4.7042, 5.7374, 5.4990, 4.3469, 6.1013,\n",
      "         4.2109, 4.6537, 5.4646, 4.4390, 4.2708, 4.1133, 5.7576, 4.9037, 3.5860,\n",
      "         5.5769, 6.0705, 5.7667, 3.9408, 4.8191, 5.4785, 4.7380, 5.4289, 6.0965,\n",
      "         6.0759, 3.7622, 5.8302],\n",
      "        [2.9443, 2.9389, 2.6152, 4.2204, 3.4538, 4.2965, 3.8265, 3.8347, 5.6174,\n",
      "         3.2440, 4.8110, 4.8699, 3.6135, 4.6339, 4.3441, 4.3274, 3.3615, 4.4561,\n",
      "         5.2727, 5.2411, 4.5392, 3.9216, 4.3896, 5.9312, 6.0054, 5.7579, 5.8332,\n",
      "         6.2610, 6.0261, 5.9927, 6.1332, 4.5833, 5.8406, 6.4894, 5.2181, 5.1096,\n",
      "         6.8481, 6.5516, 7.3150],\n",
      "        [2.1345, 3.7505, 3.2863, 4.7606, 4.1588, 4.0254, 4.5620, 3.5655, 6.0107,\n",
      "         3.9796, 4.1053, 4.5076, 3.9777, 5.3990, 5.5776, 5.5940, 3.7241, 7.5522,\n",
      "         4.6958, 5.0055, 5.1300, 4.8022, 4.7535, 5.9445, 5.4700, 7.2939, 5.5230,\n",
      "         7.2938, 5.4788, 7.3518, 5.5328, 4.9334, 5.9118, 6.2026, 5.0940, 6.5129,\n",
      "         7.9249, 5.8103, 6.3864],\n",
      "        [1.9500, 2.4315, 2.5844, 3.2115, 3.4968, 4.0170, 3.8578, 3.9807, 4.3665,\n",
      "         2.4645, 4.2678, 3.8596, 2.9995, 4.0468, 3.5158, 3.8241, 3.4906, 4.7210,\n",
      "         3.8779, 4.4121, 4.3568, 3.8798, 3.7612, 4.7165, 4.3223, 5.0358, 4.6005,\n",
      "         4.2395, 3.7469, 4.4926, 4.9027, 4.0677, 4.4952, 4.9354, 4.3872, 5.1776,\n",
      "         4.8177, 4.9459, 4.2026],\n",
      "        [2.5483, 3.3344, 3.0880, 3.2729, 4.6927, 4.9606, 4.6331, 4.0599, 4.8270,\n",
      "         4.7035, 5.1702, 5.5741, 3.4076, 4.6117, 5.7124, 6.0572, 4.2145, 7.3321,\n",
      "         4.8185, 6.1511, 6.2788, 5.8828, 5.1025, 6.7431, 6.3732, 6.0255, 5.7069,\n",
      "         7.9599, 7.2105, 8.2551, 5.3402, 4.2006, 7.3363, 4.9436, 6.8244, 7.7493,\n",
      "         7.5852, 4.9399, 6.7804],\n",
      "        [1.9195, 2.6009, 2.6535, 3.6671, 4.3431, 3.5616, 3.5645, 4.1727, 5.2181,\n",
      "         3.6769, 4.2927, 3.6490, 3.5711, 3.8080, 4.1102, 4.1886, 4.4034, 4.7278,\n",
      "         4.3487, 4.5076, 4.6374, 5.1029, 4.2647, 4.3759, 4.8609, 5.4722, 3.2779,\n",
      "         5.9651, 4.8914, 4.7717, 4.7261, 5.2876, 4.3320, 4.2960, 4.8389, 5.4999,\n",
      "         4.8016, 4.6003, 5.0932]])\n"
     ]
    }
   ],
   "source": [
    "raw_ia = plot_info_maps(all_weight)\n",
    "torch.set_printoptions(threshold=torch.inf)\n",
    "print(torch.sort(raw_ia)[0])\n",
    "print(iass[:, np.argsort(raw_ia)][np.argsort(raw_ia), :])"
   ]
  },
  {
   "cell_type": "code",
   "execution_count": 30,
   "metadata": {},
   "outputs": [
    {
     "data": {
      "image/png": "[encoded data removed]",
      "text/plain": [
       "<Figure size 640x480 with 2 Axes>"
      ]
     },
     "metadata": {},
     "output_type": "display_data"
    }
   ],
   "source": [
    "\n",
    "sns.heatmap(iass[:, np.argsort(raw_ia)][np.argsort(raw_ia), :].numpy(), cmap=\"Reds\")\n",
    "plt.show()"
   ]
  }
 ],
 "metadata": {
  "kernelspec": {
   "display_name": "base",
   "language": "python",
   "name": "python3"
  },
  "language_info": {
   "codemirror_mode": {
    "name": "ipython",
    "version": 3
   },
   "file_extension": ".py",
   "mimetype": "text/x-python",
   "name": "python",
   "nbconvert_exporter": "python",
   "pygments_lexer": "ipython3",
   "version": "3.10.9"
  },
  "orig_nbformat": 4
 },
 "nbformat": 4,
 "nbformat_minor": 2
}
